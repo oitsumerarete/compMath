{
 "cells": [
  {
   "cell_type": "code",
   "execution_count": 1,
   "id": "ca8e1b5d",
   "metadata": {},
   "outputs": [],
   "source": [
    "def ThreeDiagonalSolver(A, b):\n",
    "    y = 0.0\n",
    "    if len(A) == 0 or len(A) != len(b):\n",
    "        print(\"null matrix\")\n",
    "        return []\n",
    "    n = len(b)\n",
    "    a = [0.0] * n\n",
    "    B = [0.0] * n\n",
    "    y = A[0][0]\n",
    "    a[0] = - A[0][1]/y\n",
    "    B[0] = b[0]/y\n",
    "    for i in range(1, n-1):\n",
    "        y = A[i][i] + A[i][i-1]*a[i-1]\n",
    "        a[i] = -A[i][i+1]/y\n",
    "        B[i] = (b[i]-A[i][i-1]*B[i-1])/y\n",
    "    res = [0.0] * n\n",
    "    res[n-1] = (b[n-1]-A[n-1][n-2]*B[n-2])/(A[n-1][n-1]+A[n-1][n-2]*a[n-2])\n",
    "    for i in range(n-2, -1, -1):\n",
    "        res[i]= a[i]*res[i+1]+B[i]\n",
    "    return res\n"
   ]
  },
  {
   "cell_type": "code",
   "execution_count": 2,
   "id": "7b481a82",
   "metadata": {},
   "outputs": [
    {
     "data": {
      "text/plain": [
       "[1.4883720930232558, -0.023255813953488358, -0.6744186046511629]"
      ]
     },
     "execution_count": 2,
     "metadata": {},
     "output_type": "execute_result"
    }
   ],
   "source": [
    "A = [[2, -1, 0],  \n",
    "      [5, 4, 2],  \n",
    "      [0, 1, -3]] \n",
    "b = [3,6,2]\n",
    "ThreeDiagonalSolver(A,b)"
   ]
  },
  {
   "cell_type": "code",
   "execution_count": 1,
   "id": "d63a6542",
   "metadata": {},
   "outputs": [
    {
     "data": {
      "image/png": "[encoded data removed]",
      "text/plain": [
       "<Figure size 640x480 with 1 Axes>"
      ]
     },
     "metadata": {},
     "output_type": "display_data"
    }
   ],
   "source": [
    "import numpy as np\n",
    "\n",
    "T_0 = 0 # температура на левой границе\n",
    "T_L = 200 # температура на правой границе\n",
    "k = 0.5 # коэффициент теплопроводности\n",
    "L = 1 # длина стержня\n",
    "N = 100 # количество узлов на стержне\n",
    "\n",
    "dx = L/N\n",
    "x = np.linspace(0, L, N+1) # сетка узлов\n",
    "\n",
    "dt = 0.01 # шаг по времени\n",
    "T = np.zeros(N+1) # начальное распределение температуры\n",
    "T[0] = T_0\n",
    "T[N] = T_L\n",
    "\n",
    "#Применим метод прогонки:\n",
    "\n",
    "A = k/dx**2\n",
    "B = 1/dt + 2*k/dx**2\n",
    "C = k/dx**2\n",
    "\n",
    "a = np.zeros(N+1)\n",
    "b = np.zeros(N+1)\n",
    "c = np.zeros(N+1)\n",
    "d = np.zeros(N+1)\n",
    "\n",
    "for i in range(1, N):\n",
    "    a[i] = -A\n",
    "    b[i] = B\n",
    "    c[i] = -C\n",
    "    d[i] = T[i]/dt\n",
    "\n",
    "#ГУ смешанного типа\n",
    "a[0] = 0\n",
    "b[0] = 1\n",
    "d[0] = T_0\n",
    "\n",
    "c[N] = 0\n",
    "b[N] = 1\n",
    "d[N] = T_L\n",
    "\n",
    "#прямой ход\n",
    "for i in range(1, N+1):\n",
    "    m = a[i]/b[i-1]\n",
    "    b[i] = b[i] - m*c[i-1]\n",
    "    d[i] = d[i] - m*d[i-1]\n",
    "\n",
    "#обратный ход\n",
    "T[-1] = d[-1]/b[-1]\n",
    "\n",
    "for i in range(N-1, -1, -1):\n",
    "    T[i] = (d[i] - c[i]*T[i+1])/b[i]\n",
    "\n",
    "#Осталось только визуализировать полученное распределение температуры:\n",
    "\n",
    "import matplotlib.pyplot as plt\n",
    "\n",
    "plt.plot(x, T)\n",
    "plt.xlabel('x')\n",
    "plt.ylabel('T')\n",
    "plt.grid()\n",
    "plt.show()"
   ]
  },
  {
   "cell_type": "code",
   "execution_count": null,
   "id": "aa7aadd6",
   "metadata": {},
   "outputs": [],
   "source": []
  }
 ],
 "metadata": {
  "kernelspec": {
   "display_name": "Python 3",
   "language": "python",
   "name": "python3"
  },
  "language_info": {
   "codemirror_mode": {
    "name": "ipython",
    "version": 3
   },
   "file_extension": ".py",
   "mimetype": "text/x-python",
   "name": "python",
   "nbconvert_exporter": "python",
   "pygments_lexer": "ipython3",
   "version": "3.10.9"
  }
 },
 "nbformat": 4,
 "nbformat_minor": 5
}
